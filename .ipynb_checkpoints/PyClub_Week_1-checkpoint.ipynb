{
 "cells": [
  {
   "cell_type": "markdown",
   "id": "11a04166",
   "metadata": {},
   "source": [
    "The general purpose of today is to get everyone familiarized with basic python syntax, its built in datatypes, functions, classes, operators, etc. By the end if today you should know how to write simple functions, create simple classes, and the difference between specific datatypes. We may also go over some of the most useful libraries in python if time permits."
   ]
  },
  {
   "cell_type": "code",
   "execution_count": 12,
   "id": "5d3e6a68",
   "metadata": {},
   "outputs": [],
   "source": [
    "# generally speaking we will always need to import something, typical syntax involves \n",
    "# \"import library as {abbreviation}\", or \"from library import {specific module} as {abbreviation}\"\n",
    "# as a quick note we can import libraries by whatever name you prefer, for example we could import pandas as\n",
    "# I_LOVE_ENGRAMS, but this is unwieldy, pick a shorthand that you can easily identify and is easy to type\n",
    "\n",
    "#import pandas as I_LOVE_ENGRAMS\n",
    "import pandas as pd\n",
    "import numpy as np\n",
    "import matplotlib.pyplot as plt"
   ]
  },
  {
   "cell_type": "markdown",
   "id": "73838078",
   "metadata": {},
   "source": [
    "# Basic Python"
   ]
  },
  {
   "cell_type": "markdown",
   "id": "6b6d165a",
   "metadata": {},
   "source": [
    "Python is an easy to read programming language meant to mimic plain english. This in turn means that it is easy to read, develop, and learn. However, it is an interpreted language meaning that it runs slower than compiled languages (i.e. C++). However, as scientists, this generally not a problem, but this should be soemthing we are always cognizant of. My general rule of thumb is to program for function first; you can always optimize later (and generally you don't even need to at this level). So, let's jump in!"
   ]
  },
  {
   "cell_type": "code",
   "execution_count": 6,
   "id": "ee27b493",
   "metadata": {},
   "outputs": [
    {
     "name": "stdout",
     "output_type": "stream",
     "text": [
      "name: Steve Ramirez\n",
      "Hello, Steve Ramirez\n"
     ]
    }
   ],
   "source": [
    "# before we get to the task at hand a few things about python syntax\n",
    "# this is how i write a comment\n",
    "# to start we can comment with the \"hashtag\" i.e. \"pound symbol\" or #\n",
    "# ALWAYS COMMENT YOUR CODE\n",
    "# I don't care how smart you are, or how good of a memory you have well commented code is easily debuggable code\n",
    "# Always err on the side of overexplanation commenting is free and will save you so much time, be kind to future you\n",
    "\n",
    "# python uses \"whitespace operators\" to denote where code blocks begin for example:\n",
    "# in this simple function the whitespace before the return statement tells python that this is a code block\n",
    "# or basically a lsit of instruction sncapsualted by the fucntion\n",
    "def print_hello_world():\n",
    "    return print(\"Hello, World!\") # it makes no difference whether comments are in\n",
    "\n",
    "# similarly in this example, the whitespcae seperates the code blocks in this if-else statement\n",
    "name = input(\"name: \")\n",
    "\n",
    "if name == 'Steve Ramirez':\n",
    "    print(f\"Hello, {name}\")\n",
    "else:\n",
    "    print(\"You aren't Steve Ramirez!\")\n",
    "    "
   ]
  },
  {
   "cell_type": "code",
   "execution_count": 7,
   "id": "8289f688",
   "metadata": {},
   "outputs": [
    {
     "name": "stdout",
     "output_type": "stream",
     "text": [
      "4\n",
      "0\n",
      "4\n",
      "1.0\n",
      "4\n",
      "1\n",
      "48\n"
     ]
    }
   ],
   "source": [
    "# Python can function as a calculator\n",
    "# we don't need the print statements when running one by one in the python shell,\n",
    "# i just need all statements to return at once\n",
    "\n",
    "# addition\n",
    "print(2 + 2)\n",
    "# subtraction\n",
    "print(2 - 2)\n",
    "# multiplication\n",
    "print(2 * 2)\n",
    "# division\n",
    "print(2 / 2)\n",
    "# exponentiation\n",
    "print(2 ** 2)\n",
    "# modulus i.e. remainder after division\n",
    "print(97 % 2)\n",
    "# floor division i.e. divide and round to nearest whole\n",
    "print(97 // 2)\n"
   ]
  },
  {
   "cell_type": "code",
   "execution_count": 8,
   "id": "a4c21b0f",
   "metadata": {},
   "outputs": [
    {
     "name": "stdout",
     "output_type": "stream",
     "text": [
      "True\n",
      "True\n",
      "True\n",
      "True\n",
      "True\n",
      "True\n",
      "False\n",
      "True\n",
      "True\n",
      "True\n",
      "True\n",
      "True\n"
     ]
    }
   ],
   "source": [
    "# python can also function as a logician with other operators such as <, >, etc\n",
    "\n",
    "# less than\n",
    "print(2 < 3)\n",
    "\n",
    "# greater than\n",
    "print(3 > 2)\n",
    "\n",
    "# less than equal to\n",
    "print(2 <= 3)\n",
    "\n",
    "# greater than equal to\n",
    "print(3 >= 2)\n",
    "\n",
    "# not equal to\n",
    "print(3 != 1)\n",
    "\n",
    "# equivalence\n",
    "# notice that = != ==, = is assignment, == is equivalence\n",
    "x = 5\n",
    "var = 'hello'\n",
    "y = 89\n",
    "print(x == 5)\n",
    "\n",
    "# notice that python returns a false value if i type an incorrect statement\n",
    "print(3 == 4)\n",
    "\n",
    "# The True and False vlaues are known as Booleans note that 0 is equivalent to False, and True is equivalent to 1\n",
    "# We can use what are called logical operators to verify and disprove statements\n",
    "\n",
    "# and\n",
    "print(2 < 3 and 1 < 3)\n",
    "\n",
    "# or\n",
    "print(2 < 3 or 3 < 2)\n",
    "\n",
    "# we can use identity operators to verify equivalence\n",
    "\n",
    "x = 5\n",
    "y = 7 - 2\n",
    "\n",
    "print(x is y)\n",
    "\n",
    "a = 5\n",
    "b = 8 - 2\n",
    "\n",
    "print(a is not b)\n",
    "\n",
    "# we can also determine membership\n",
    "myList = [1, 2, 3, 4, 5]\n",
    "x = 4\n",
    "y = 10\n",
    "print(x in myList and y not in myList)\n",
    "\n",
    "# we can also use assignment operators\n",
    "\n",
    "x = 5\n",
    "x += 1\n",
    "x = x + 1\n",
    "\n",
    "y = 5\n",
    "y -= 1\n",
    "y = y -1\n",
    "\n",
    "# this patter continues with the other operators"
   ]
  },
  {
   "cell_type": "code",
   "execution_count": 10,
   "id": "900ce396",
   "metadata": {},
   "outputs": [
    {
     "name": "stdout",
     "output_type": "stream",
     "text": [
      "5\n",
      "Steve Ramirez\n",
      "['Steve Ramirez', 'Ben Scott', 'Mark Howe']\n",
      "[1, 2, 3]\n",
      "[\"Steve Ramirez\", \"Ben Scott\", \"Mark Howe\"]\n"
     ]
    }
   ],
   "source": [
    "# With python we can also assign values to variables to be stored in memory, these can hold many \n",
    "# different data types that we can explore later\n",
    "\n",
    "numberFive = 5\n",
    "pi = \"Steve Ramirez\"\n",
    "principalInvestigators = [\"Steve Ramirez\", \"Ben Scott\", \"Mark Howe\"]\n",
    "x = '[\"Steve Ramirez\", \"Ben Scott\", \"Mark Howe\"]'\n",
    "list_Numbers = [1 ,2 , 3]\n",
    "\n",
    "print(numberFive)\n",
    "print(pi)\n",
    "print(principalInvestigators)\n",
    "print(list_Numbers)\n",
    "print(x)\n",
    "\n",
    "# similar to good commenting, good variable naming (and naming in general) is a necessary skill, \n",
    "# consider the two functions below:\n",
    "\n",
    "def myFunction(x):\n",
    "    y = pd.read_csv(x)\n",
    "    z = y[1]\n",
    "    lmao = z - 2\n",
    "    return lmao\n",
    "\n",
    "#  vs\n",
    "\n",
    "def subtract_two_from_DF(filepath):\n",
    "    myFile = pd.read_csv(filepath)\n",
    "    column2 = myFile[1]\n",
    "    subtract2 = column2 - 2\n",
    "    return subtract2\n",
    "\n",
    "# the bottom function is very readable, and debuggable, you certainly can intuit what I'm trying to do"
   ]
  },
  {
   "cell_type": "code",
   "execution_count": 13,
   "id": "ec37673f",
   "metadata": {},
   "outputs": [
    {
     "name": "stdout",
     "output_type": "stream",
     "text": [
      "Steve Ramirez\n",
      "2\n",
      "Steve Ramirez\n",
      "<class 'set'>\n",
      "   0  1\n",
      "0  1  4\n",
      "1  2  5\n",
      "2  3  6\n",
      "2\n",
      "[[1 4]\n",
      " [2 5]\n",
      " [3 6]]\n",
      "4\n"
     ]
    }
   ],
   "source": [
    "# Python has many different built in data structures, and many other useful ones we can take from libraries\n",
    "\n",
    "# a list is ordered, can contain mixed data, indexed, and are mutable. They are created with square brackets\n",
    "principalInvestigators = [\"Steve Ramirez\", \"Ben Scott\", \"Mark Howe\", 5, 6, 9, 'hello']\n",
    "# indexing starts with zero in python, thus 0 is my first index\n",
    "print(principalInvestigators[0])\n",
    "y = []\n",
    "\n",
    "# a tuple is a collection that is ordered, can contain mixed data, indexed, and is immutable. \n",
    "# They are created with regular parentheses\n",
    "myTuple = (1,2)\n",
    "('y', 7, 9)\n",
    "print(myTuple[1])\n",
    "\n",
    "# a set is unordered and unindexed, this imo is the least useful datatype but they still can serve a function\n",
    "mySet = {\"1\", 1}\n",
    "\n",
    "# a dictionary maps \"keys\" to \"values\" like, you guessed it, a dictionary. They are ordered, mutable, and indexed\n",
    "steveDict = {\"name\": \"Steve Ramirez\",\n",
    "            \"favoriteNumber\" : 13,\n",
    "            \"role\": \"Principal Investigator\",\n",
    "            \"field_of_study\": \"Engrams\"}\n",
    "\n",
    "print(steveDict[\"name\"])\n",
    "\n",
    "\n",
    "# if you don't know what kind of data structure you're working with we can always use the in-built type function\n",
    "\n",
    "print(type(mySet))\n",
    "\n",
    "# now lets look at two data structures that you will definitely use numpy arrays and pandas dataframes\n",
    "\n",
    "# define some lists\n",
    "myList1 = [1,2,3]\n",
    "myList2 = [4,5,6]\n",
    "\n",
    "myDF = pd.DataFrame(list(zip(myList1,myList2)))\n",
    "\n",
    "myArray = np.array(list(zip(myList1,myList2)))\n",
    "\n",
    "#print(myArray[1][2])\n",
    "print(myDF)\n",
    "print(myDF[0][1])\n",
    "\n",
    "print(myArray)\n",
    "print(myArray[0][1])"
   ]
  },
  {
   "cell_type": "code",
   "execution_count": 14,
   "id": "dd34a5e2",
   "metadata": {},
   "outputs": [
    {
     "name": "stdout",
     "output_type": "stream",
     "text": [
      "Name of PI: Rebecca Suthard\n",
      "You're not a principle investogator!\n",
      "name: Kaitlyn Dorst\n",
      "Hello, Kaitlyn Dorst, you are a Graduate Student\n"
     ]
    }
   ],
   "source": [
    "# if-else statements can be used to determine logical answers to questions, lets make a simple if-else statement\n",
    "\n",
    "principalInvestigators = [\"Steve Ramirez\", \"Ben Scott\", \"Mark Howe\"]\n",
    "principleInvestigator = input(\"Name of PI: \")\n",
    "\n",
    "if principleInvestigator in principalInvestigators:\n",
    "    print(f\"Hello, {principleInvestigator}!\")\n",
    "else:\n",
    "    print(\"You're not a principle investogator!\")\n",
    "\n",
    "# we can make this mor ecomplex by using elif statements, thus functionally adding more conditions\n",
    "gradStudents = [\"Kaitlyn Dorst\", \"Amy Monasterio\", \"Rebecca Suthard\"]\n",
    "postDoc = ['Stephanie Grella']\n",
    "\n",
    "person = input(\"name: \")\n",
    "\n",
    "if person in principalInvestigators:\n",
    "    print(f\"Hello, {person}, you are a Principle Investigator\")\n",
    "elif person in gradStudents:\n",
    "    print(f\"Hello, {person}, you are a Graduate Student\")\n",
    "elif person in postDoc:\n",
    "    print(f\"Hello, {person}, you are a Post-Doc\")\n",
    "else:\n",
    "    print(\"You aren't a PI, grad student, or a post-doc, you must be a undergrad or a tech!\")"
   ]
  },
  {
   "cell_type": "code",
   "execution_count": 15,
   "id": "6340048f",
   "metadata": {},
   "outputs": [
    {
     "name": "stdout",
     "output_type": "stream",
     "text": [
      "Hi, Steve Ramirez, you are a Principle Investigator!\n",
      "Hi, Ben Scott, you are a Principle Investigator!\n",
      "Hi, Mark Howe, you are a Principle Investigator!\n"
     ]
    }
   ],
   "source": [
    "# for loops can be used to iteratively apply operations through objects\n",
    "# lets use a simple for loop below\n",
    "\n",
    "principalInvestigators = [\"Steve Ramirez\", \"Ben Scott\", \"Mark Howe\"]\n",
    "\n",
    "for pi in principalInvestigators:\n",
    "    print(f\"Hi, {pi}, you are a Principle Investigator!\")"
   ]
  },
  {
   "cell_type": "code",
   "execution_count": 17,
   "id": "4cc04d3e",
   "metadata": {},
   "outputs": [
    {
     "name": "stdout",
     "output_type": "stream",
     "text": [
      "1 is less than 5\n",
      "2 is less than 5\n",
      "3 is less than 5\n",
      "4 is less than 5\n"
     ]
    }
   ],
   "source": [
    "# while loops allow us to run operatiosn while a specific condition is being met\n",
    "# while loops require a logically sound premsie or you risk running an infinite loop\n",
    "# lets create a simple while loop below\n",
    "\n",
    "# there is something horribly wrong with this while loop, can anyone tell me why?\n",
    "i = 1\n",
    "while i < 5:\n",
    "    print(f\"{i} is less than 5\")\n",
    "    i += 1"
   ]
  },
  {
   "cell_type": "code",
   "execution_count": 19,
   "id": "fde510d0",
   "metadata": {},
   "outputs": [
    {
     "name": "stdout",
     "output_type": "stream",
     "text": [
      "[0.3333333333333333, 0.6666666666666666, 1.0]\n",
      "25632.333333333332\n",
      "\n",
      "\n",
      "Recursion Example Results\n",
      "1\n",
      "3\n",
      "6\n",
      "10\n",
      "15\n",
      "21\n"
     ]
    },
    {
     "data": {
      "text/plain": [
       "21"
      ]
     },
     "execution_count": 19,
     "metadata": {},
     "output_type": "execute_result"
    }
   ],
   "source": [
    "# functions encapsulate sections of code that we need to utilize in a generalized manner\n",
    "# code with more, smaller functions makes code much easier to debug and read\n",
    "# lets build a simple function below\n",
    "\n",
    "# for this function, the input can be a an int or list\n",
    "# it divides inut by three\n",
    "a = [1, 2, 3]\n",
    "b = 76897\n",
    "def divideThree(number):\n",
    "    if type(number) == list:\n",
    "        answer = []\n",
    "        for num in number:\n",
    "            quotient = num / 3\n",
    "            answer.append(quotient)\n",
    "    elif type(number) == int:\n",
    "        answer = number / 3\n",
    "    else:\n",
    "        raise Exception('Your input must be an int or list!')\n",
    "            \n",
    "    return answer\n",
    "\n",
    "print(divideThree(a))\n",
    "print(divideThree(b))\n",
    "#print(divideThree('Steve Ramirez'))\n",
    "\n",
    "# lets create a slightly more complex function\n",
    "def tri_recursion(k):\n",
    "    if(k > 0):\n",
    "        result = k + tri_recursion(k - 1)\n",
    "        print(result)\n",
    "    else:\n",
    "        result = 0\n",
    "    return result\n",
    "\n",
    "print(\"\\n\\nRecursion Example Results\")\n",
    "tri_recursion(6)"
   ]
  },
  {
   "cell_type": "code",
   "execution_count": 20,
   "id": "b5a2ad87",
   "metadata": {},
   "outputs": [
    {
     "name": "stdout",
     "output_type": "stream",
     "text": [
      "[  1.    3.    6.   22.   16.   10.   29.9 -57.9 -31. ]\n"
     ]
    }
   ],
   "source": [
    "# python utilizes object oriented programming, basically everything you touch in python is an object\n",
    "# numpy arrays, lists, pandas dataframes, strings are all objects\n",
    "# classes allow you to define new objects with new intrinsic properties, they can contain data, and methods (functions)\n",
    "# lets define two classes below \n",
    "\n",
    "class PI:\n",
    "    def __init__(self, name, number, brainArea):\n",
    "        self.name = name\n",
    "        self.number = number\n",
    "        self.brainArea = brainArea\n",
    "\n",
    "pi1 = PI(\"Steve\", 13, \"Dentate Gyrus\")\n",
    "pi2 = PI(\"Mark\", 27, \"Striatum\")\n",
    "\n",
    "\n",
    "class mouse:\n",
    "    def __init__(self, strain, positionData):\n",
    "        self.strain = strain\n",
    "        self.positionData = positionData\n",
    "        \n",
    "    def calculateVelocity(self):\n",
    "        dx = 0.1\n",
    "        velocity = np.diff(self.positionData)/dx\n",
    "        print(velocity)\n",
    "        \n",
    "wt1 = mouse(\"WT\", [0.2,0.3,0.6,1.2,3.4,5,6,8.99,3.2,0.1])\n",
    "wt1.calculateVelocity()\n"
   ]
  },
  {
   "cell_type": "raw",
   "id": "78fc4ff8",
   "metadata": {},
   "source": []
  }
 ],
 "metadata": {
  "kernelspec": {
   "display_name": "Python 3",
   "language": "python",
   "name": "python3"
  },
  "language_info": {
   "codemirror_mode": {
    "name": "ipython",
    "version": 3
   },
   "file_extension": ".py",
   "mimetype": "text/x-python",
   "name": "python",
   "nbconvert_exporter": "python",
   "pygments_lexer": "ipython3",
   "version": "3.9.5"
  }
 },
 "nbformat": 4,
 "nbformat_minor": 5
}
