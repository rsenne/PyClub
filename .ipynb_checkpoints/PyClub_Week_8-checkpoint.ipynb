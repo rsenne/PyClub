{
 "cells": [
  {
   "cell_type": "markdown",
   "metadata": {
    "collapsed": true,
    "pycharm": {
     "name": "#%% md\n"
    }
   },
   "source": [
    "## Python Week 8: Advanced Python\n",
    "\n",
    "This is our final lesson, so give yourself a round of applause because you all have what it takes to be pythonistas.\n",
    "For this week, we are going to look at a few advanced topics in python including multithreading, wrappers, interrobangs, etc.\n",
    "I hope you've found these lessons useful, and I hope you all continue to program."
   ]
  },
  {
   "cell_type": "markdown",
   "metadata": {
    "pycharm": {
     "name": "#%% md\n"
    }
   },
   "source": [
    "### Decorators\n",
    "\n",
    "In python functions are objects, hence, OOB. Functions are incredibly powerful tools to  consistently perform the exact saem set of actions.\n",
    "But, what if we could make them even more powerful. Well we can. We just need to decorate them."
   ]
  },
  {
   "cell_type": "code",
   "execution_count": 2,
   "metadata": {
    "pycharm": {
     "name": "#%%\n"
    }
   },
   "outputs": [
    {
     "name": "stdout",
     "output_type": "stream",
     "text": [
      "hello\n"
     ]
    }
   ],
   "source": [
    "# lets make a simple function\n",
    "\n",
    "def hello():\n",
    "    print ('hello')\n",
    "    return\n",
    "\n",
    "message = hello()"
   ]
  },
  {
   "cell_type": "code",
   "execution_count": 7,
   "metadata": {
    "pycharm": {
     "name": "#%%\n"
    }
   },
   "outputs": [
    {
     "name": "stdout",
     "output_type": "stream",
     "text": [
      "hello\n",
      "Ryan Senne\n"
     ]
    }
   ],
   "source": [
    "def hello(func):\n",
    "    def inner():\n",
    "        print('hello')\n",
    "        func()\n",
    "    return inner\n",
    "\n",
    "def name():\n",
    "    print(\"Ryan Senne\")\n",
    "\n",
    "hello_name = hello(name)\n",
    "hello_name()"
   ]
  },
  {
   "cell_type": "code",
   "execution_count": null,
   "metadata": {},
   "outputs": [],
   "source": []
  }
 ],
 "metadata": {
  "kernelspec": {
   "display_name": "Python 3",
   "language": "python",
   "name": "python3"
  },
  "language_info": {
   "codemirror_mode": {
    "name": "ipython",
    "version": 3
   },
   "file_extension": ".py",
   "mimetype": "text/x-python",
   "name": "python",
   "nbconvert_exporter": "python",
   "pygments_lexer": "ipython3",
   "version": "3.9.5"
  }
 },
 "nbformat": 4,
 "nbformat_minor": 1
}
