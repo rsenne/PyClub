{
 "cells": [
  {
   "cell_type": "markdown",
   "id": "93cfb333",
   "metadata": {},
   "source": [
    "# Python Week 3: Comprehensions, Pandas, and Iterators"
   ]
  },
  {
   "cell_type": "markdown",
   "id": "29c2e716",
   "metadata": {},
   "source": [
    "For this week we will take a look at alternative and possibly faster approaches to modifying inputs of data containing structures for the purpose of cleaner code and optimization. These techniques can be initially confusing, but as you'll see they often share similar logic to loops that you're already familiar with."
   ]
  },
  {
   "cell_type": "code",
   "execution_count": 1,
   "id": "8c7fa7f6",
   "metadata": {},
   "outputs": [],
   "source": [
    "# import necessary libraries for this week\n",
    "import pandas as pd\n",
    "import numpy as np\n",
    "import seaborn as sb\n",
    "import matplotlib.pyplot as plt"
   ]
  },
  {
   "cell_type": "markdown",
   "id": "3b0d1270",
   "metadata": {},
   "source": [
    "First let's take a look at \"lambdas.\" Lambdas, are small anonymized functions. They can only be a single expression i.e. one line of code, but can take as many inputs as you'd like. Their purpose won't be immediately clear, but lets take a look at a few low level examples, and then apply it in a more purposeful manner. Lambda fucntions are crucial in functional programming languages, but as python is both object oriented, and functional we cna utilize their advantages. "
   ]
  },
  {
   "cell_type": "code",
   "execution_count": 4,
   "id": "4404c8c6",
   "metadata": {},
   "outputs": [
    {
     "name": "stdout",
     "output_type": "stream",
     "text": [
      "25\n",
      "15\n",
      "25\n"
     ]
    }
   ],
   "source": [
    "# define a lambda function to multiply any argument by 5\n",
    "\n",
    "x = lambda i: i * 5 \n",
    "print(x(5))\n",
    "\n",
    "# as you should notice, x becomes a sort of function call, not all dissimilar to a real function. We could\n",
    "# certainly describe the same function as such\n",
    "\n",
    "def multiply_five(i):\n",
    "    product = i * 5\n",
    "    return product\n",
    "print(multiply_five(5))\n",
    "\n",
    "# as you can see we get the exact same result, so what is their purpose? Well in this example, we can at the very\n",
    "# make our code cleaner and it cerainly makes it simpler to type but what else can they do? Let's move to the next \n",
    "# cell to make it more obvious\n"
   ]
  },
  {
   "cell_type": "code",
   "execution_count": 6,
   "id": "c831eac0",
   "metadata": {},
   "outputs": [
    {
     "name": "stdout",
     "output_type": "stream",
     "text": [
      "153\n"
     ]
    }
   ],
   "source": [
    "# one way in which we can use lambdas is to put them inside another function\n",
    "# for example:\n",
    "\n",
    "def my_function(n):\n",
    "    return lambda a, b, c : (a + b + c) * n\n",
    "\n",
    "triple_sum = my_function(9)\n",
    "print(triple_sum(6,9,2))\n",
    "\n",
    "# in essence we are layering functions inside of eachother, this can allow us to create possibly more generalized\n",
    "# functions that could possibly be flexible in their implementation\n"
   ]
  },
  {
   "cell_type": "code",
   "execution_count": 7,
   "id": "e91dfc3c",
   "metadata": {},
   "outputs": [
    {
     "name": "stdout",
     "output_type": "stream",
     "text": [
      "[45, 875, 57, 5, 21, 133]\n",
      "[45, 875, 57, 5, 21, 133]\n"
     ]
    }
   ],
   "source": [
    "# let's look at a more complex example, this is a real python interview question!\n",
    "# lets say we have a list of numbers, and we need to separate odd numbers from evens\n",
    "\n",
    "numbers = [0, 45, 875, 234, 57, 5, 21, 22, 98, 133, 452, 764, 898, 10000]\n",
    "\n",
    "# one way to solve this is to do the following\n",
    "\n",
    "odd_numbers = []\n",
    "for i in numbers:\n",
    "    if i % 2 == 1:\n",
    "        odd_numbers.append(i)\n",
    "print(odd_numbers)\n",
    "\n",
    "# this is a toally ok solution, and I would be happy if any of you produced this result as beggining programmers\n",
    "# but let me show you a more elegant solution using the higher order function filter\n",
    "# filter takes a function as an input and tests if iterations meet a set of conditions i.e.\n",
    "\n",
    "print(list(filter(lambda x: x % 2 == 1, numbers)))\n",
    "\n",
    "# this isn't the only uses of lambdas but this is likely the most relevant to you, lambda allows you to write code\n",
    "# faster, and possibly more optimized, by passing low level lambdas to higher ordered functions\n"
   ]
  },
  {
   "cell_type": "markdown",
   "id": "4404da28",
   "metadata": {},
   "source": [
    "Now lets look at what a comprehension does, these are similar to lambdas in many ways. In essence list and dictionary comprehensions are shorthand loops that are also faster (in most cases). "
   ]
  },
  {
   "cell_type": "code",
   "execution_count": 9,
   "id": "6f0958cd",
   "metadata": {},
   "outputs": [
    {
     "name": "stdout",
     "output_type": "stream",
     "text": [
      "<generator object <genexpr> at 0x169990c80>\n",
      "{'sepal_length': 0, 'sepal_width': 1, 'petal_length': 2, 'petal_width': 3, 'species': 4}\n"
     ]
    }
   ],
   "source": [
    "# Let's create a list\n",
    "# now let's also say i need the original list, but i need specific informatiom from this old list\n",
    "my_list = [1, 2, 3, 4, 5, 6, 7, 8, 9]\n",
    "\n",
    "\n",
    "# lets say i want numbers that are divisible by three\n",
    "my_new_list = [x for x in my_list if x % 3 == 0]\n",
    "print(my_new_list)\n",
    "\n",
    "\n",
    "# this might seem like a useless concept but this is an incredibly powerful tool that seasoned python\n",
    "# programmers are expected to know, lets take a look at how we can apply this to dictioanries as well\n",
    "\n",
    "# lets say i have a pandas dataframe\n",
    "iris = pd.read_csv('https://raw.githubusercontent.com/mwaskom/seaborn-data/master/iris.csv')\n",
    "# now lets say i need the numerical index for each entry in my dataset\n",
    "\n",
    "column_names = iris.columns.to_list() # uses pandas .to_list() method to get a list of column names\n",
    "column_number = list(item for item in range(0, len(column_names))) # another way to create a list w/ comprehension\n",
    "\n",
    "# not lets say that we need to create a dictioanry that maps the column name to the numerical index\n",
    "name_and_number = {column_names[x]: column_number[x] for x in range(len(column_number))}\n",
    "print(name_and_number)"
   ]
  },
  {
   "cell_type": "markdown",
   "id": "3f7cf040",
   "metadata": {},
   "source": [
    "Ok, now that we comprehend comprehensions, lets move onto some advanced topics in pandas/numpy. One of the ways in which Pandas shines as a library is its ability to clean data. Let's say we have the following problems:"
   ]
  },
  {
   "cell_type": "code",
   "execution_count": 10,
   "id": "48e1e85e",
   "metadata": {},
   "outputs": [
    {
     "name": "stdout",
     "output_type": "stream",
     "text": [
      "0      22.0\n",
      "1      38.0\n",
      "2      26.0\n",
      "3      35.0\n",
      "4      35.0\n",
      "       ... \n",
      "886    27.0\n",
      "887    19.0\n",
      "888     NaN\n",
      "889    26.0\n",
      "890    32.0\n",
      "Name: age, Length: 891, dtype: float64\n"
     ]
    },
    {
     "data": {
      "image/png": "[encoded data removed]",
      "text/plain": [
       "<Figure size 432x288 with 2 Axes>"
      ]
     },
     "metadata": {
      "needs_background": "light"
     },
     "output_type": "display_data"
    },
    {
     "data": {
      "image/png": "[encoded data removed]",
      "text/plain": [
       "<Figure size 432x288 with 2 Axes>"
      ]
     },
     "metadata": {
      "needs_background": "light"
     },
     "output_type": "display_data"
    }
   ],
   "source": [
    "# lets look at how we can clean data in Pandas\n",
    "titanic = pd.read_csv('https://raw.githubusercontent.com/mwaskom/seaborn-data/master/titanic.csv')\n",
    "age = titanic['age']\n",
    "print(age) # notice that we have NaN or \"not a number\" values. These can pose problems in data analysis lets look\n",
    "# ar a few methods of cleaning this up \n",
    "\n",
    "# we can remove any row that has a NaN value entirely\n",
    "# first lets find NaN values using seaborns (not really the best way just fun to visualize)\n",
    "plt.show(sb.heatmap(titanic.isnull()))\n",
    "# as we can see we have many NaN values in the age and deck column, lets see how we can work with this\n",
    "# lets drop values where the age column is null\n",
    "titanic1 = titanic.copy() # make a copy\n",
    "titanic1 = titanic1.dropna(subset=['age']) # remove NaN values in the column 'age'\n",
    "plt.show(sb.heatmap(titanic1.isnull())) # seaborns corr plots dont\n",
    "\n"
   ]
  },
  {
   "cell_type": "code",
   "execution_count": 11,
   "id": "0604b45c",
   "metadata": {},
   "outputs": [
    {
     "name": "stdout",
     "output_type": "stream",
     "text": [
      "0      22.0\n",
      "1      38.0\n",
      "2      26.0\n",
      "3      35.0\n",
      "4      35.0\n",
      "       ... \n",
      "886    27.0\n",
      "887    19.0\n",
      "888     NaN\n",
      "889    26.0\n",
      "890    32.0\n",
      "Name: age, Length: 891, dtype: float64\n"
     ]
    },
    {
     "data": {
      "image/png": "[encoded data removed]",
      "text/plain": [
       "<Figure size 432x288 with 2 Axes>"
      ]
     },
     "metadata": {
      "needs_background": "light"
     },
     "output_type": "display_data"
    },
    {
     "data": {
      "image/png": "[encoded data removed]",
      "text/plain": [
       "<Figure size 432x288 with 2 Axes>"
      ]
     },
     "metadata": {
      "needs_background": "light"
     },
     "output_type": "display_data"
    },
    {
     "name": "stdout",
     "output_type": "stream",
     "text": [
      "0      22.000000\n",
      "1      38.000000\n",
      "2      26.000000\n",
      "3      35.000000\n",
      "4      35.000000\n",
      "         ...    \n",
      "886    27.000000\n",
      "887    19.000000\n",
      "888    29.699118\n",
      "889    26.000000\n",
      "890    32.000000\n",
      "Name: age, Length: 891, dtype: float64\n",
      "29.69911764705882\n"
     ]
    }
   ],
   "source": [
    "# another possible way is to replace the missing values with some valid numerical value, say the median or mean\n",
    "titanic = pd.read_csv('https://raw.githubusercontent.com/mwaskom/seaborn-data/master/titanic.csv')\n",
    "titanic = titanic.select_dtypes(include=np.number)\n",
    "print(titanic['age'])\n",
    "plt.show(sb.heatmap(titanic[['age']]))\n",
    "\n",
    "\n",
    "#for this we can use the apply method\n",
    "# apply will perform any operation across any axis of a pandas DF\n",
    "titanic = titanic.apply(lambda x: x.fillna(x.mean()), axis=0) # fill each NaN value with the mean from the column\n",
    "plt.show(sb.heatmap(titanic[['age']]))\n",
    "print(titanic['age'])\n",
    "print(titanic['age'].mean())"
   ]
  },
  {
   "cell_type": "code",
   "execution_count": 14,
   "id": "d7919102",
   "metadata": {},
   "outputs": [
    {
     "name": "stdout",
     "output_type": "stream",
     "text": [
      "          0         1         2\n",
      "0  1.000000  0.686803  0.121384\n",
      "1  0.545870  0.467934  0.169061\n",
      "2  0.447214  0.377964  0.151272\n"
     ]
    }
   ],
   "source": [
    "# we can also apply an entire fucntion across ever element in a DF using a similar method .applymap()\n",
    "\n",
    "# lets say i have the following dataframe\n",
    "df = pd.DataFrame([[1, 2.12, 67.87], [3.356, 4.567, 34.98765678533], [5, 7, 43.7]])\n",
    "# and lets also say i need the square root of each value\n",
    "df = df.applymap(lambda x: x**(-1/2))\n",
    "print(df)\n",
    "# as you can see this applies this lambda fucntion to each element as opposed to a single axis"
   ]
  },
  {
   "cell_type": "code",
   "execution_count": 15,
   "id": "1167cc68",
   "metadata": {},
   "outputs": [
    {
     "name": "stdout",
     "output_type": "stream",
     "text": [
      "[('John', 'Jenny'), ('Charles', 'Christy'), ('Mike', 'Monica')]\n",
      "(0, 'foo')\n",
      "(1, 'bar')\n",
      "(2, 'baz')\n"
     ]
    }
   ],
   "source": [
    "# one last thing I forgot to go into detail about during week 1\n",
    "# if we need to iterate through two objects we may want to take advantage of zip and or enumerate\n",
    "\n",
    "a = (\"John\", \"Charles\", \"Mike\")\n",
    "b = (\"Jenny\", \"Christy\", \"Monica\")\n",
    "\n",
    "x = zip(a, b) # zip basically pairs object together\n",
    "print(list((i, j) for i, j in x)) # print the structure of a zip\n",
    "\n",
    "elements = ('foo', 'bar', 'baz') # arbitrary list of elements\n",
    "for iterator, identity in enumerate(elements): \n",
    "    print((iterator, identity))\n",
    "    \n",
    "# in essence zip creates iteratable tuples, and enuemrate adds an indexable number that can be used\n",
    "# when we need a numerical index"
   ]
  },
  {
   "cell_type": "code",
   "execution_count": 19,
   "id": "920fe43a",
   "metadata": {},
   "outputs": [
    {
     "name": "stdout",
     "output_type": "stream",
     "text": [
      "['a', 'c', 'e']\n",
      "John Jenny\n",
      "Christy Charles\n",
      "Monica Mike\n"
     ]
    }
   ],
   "source": [
    "# and now a quick example of enumerate\n",
    "my_list = [\"a\", \"b\", \"c\", \"d\", \"e\"]\n",
    "def even_items(iterable):\n",
    "    return [v for i, v in enumerate(iterable, start=1) if not i % 2] # grab all even indexes from some list\n",
    "print(even_items(my_list))\n",
    "\n",
    "a = (\"John\", \"Charles\", \"Mike\")\n",
    "b = (\"Jenny\", \"Christy\", \"Monica\")\n",
    "# lets look at a quick example of zip\n",
    "for i, j in zip(a, b): # we can alternatively write for i,j in zip(a,b)\n",
    "    if \"J\" in i and \"e\" in j: # check if a capital J is in i, or if a lowercase e is in j\n",
    "        print(i, j) \n",
    "    else:      # print j,i if the prior condition isn't met\n",
    "        print(j, i)"
   ]
  },
  {
   "cell_type": "code",
   "execution_count": null,
   "id": "e1f5192d",
   "metadata": {},
   "outputs": [],
   "source": []
  }
 ],
 "metadata": {
  "kernelspec": {
   "display_name": "Python 3",
   "language": "python",
   "name": "python3"
  },
  "language_info": {
   "codemirror_mode": {
    "name": "ipython",
    "version": 3
   },
   "file_extension": ".py",
   "mimetype": "text/x-python",
   "name": "python",
   "nbconvert_exporter": "python",
   "pygments_lexer": "ipython3",
   "version": "3.9.5"
  }
 },
 "nbformat": 4,
 "nbformat_minor": 5
}
