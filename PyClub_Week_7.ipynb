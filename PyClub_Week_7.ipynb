{
 "cells": [
  {
   "cell_type": "markdown",
   "id": "af03bef6-8d4e-4c70-b90c-ba3661652178",
   "metadata": {},
   "source": [
    "## Python Week 7: Visualization with Matplotlib and Seaborn\n",
    "\n",
    "Visualization of data is at the heart of science. What is the point of doing experiments if we can't share our conclusions in attractive, easily-digestable, and clear figures? Many of you are familiar with GraphPad Prism. If you only ever need to make barcharts this software is fine. But the beauty of using an actual programming language is that we have far more control. Need to create a volcano plot, visualize the predicted travel from a naive bayes classifier, or what about showing representative calcium traces? All of these things can be easily accomplished in matplotlib and seaborn."
   ]
  },
  {
   "cell_type": "code",
   "execution_count": null,
   "id": "319004e6-c08d-4ae1-bfd0-9b51919b18a1",
   "metadata": {},
   "outputs": [],
   "source": [
    "# as always lets import the necessary libraries\n",
    "import pandas as pd\n",
    "import numpy as np\n",
    "import seaborn as sb\n",
    "import matplotlib.pyplot as plt\n",
    "%matplotlib inline"
   ]
  },
  {
   "cell_type": "code",
   "execution_count": null,
   "id": "2ec7515f-e4c9-4600-a3b7-3db42bae1db4",
   "metadata": {},
   "outputs": [],
   "source": [
    "\"\"\"A quick note about interactive plotting in pycharm, but if you want an interactive figure that pops out of the pycharm plot window run the\n",
    "following two commands below. I've commented them out below so that it doesn't ruin the notebook plotting but as an FYI\"\"\"\n",
    "# from IPython import get_ipython\n",
    "# get_ipython().run_line_magic('matplotlib', 'osx')"
   ]
  },
  {
   "cell_type": "markdown",
   "id": "f3a9bda4-5af7-411c-a6ed-f3783a340f31",
   "metadata": {},
   "source": [
    "I want to do something a little less typical when teaching visualization libraries on Python. I want to start with seaborn. Why? Well because I want to teach an important lesson about the use cases for these libraries. Seaborn completely replaces Prism for statistical relationships. It also is very easy to use. The point is that Seaborn is plug-and-play. You can create publication quality figures in a single line of code. \n",
    "\n",
    "### Categorical Plots"
   ]
  },
  {
   "cell_type": "code",
   "execution_count": null,
   "id": "bf7461e6-19c4-4449-b8c2-d3b391c8e82b",
   "metadata": {},
   "outputs": [],
   "source": [
    "# import dataset\n",
    "mp = pd.read_csv('Data_Cortex_Nuclear.csv')"
   ]
  },
  {
   "cell_type": "code",
   "execution_count": null,
   "id": "5286c116-b79c-41fd-8f79-42d68ce5c4fa",
   "metadata": {},
   "outputs": [],
   "source": [
    "# the humble barplot, the most useless of all categorical plots\n",
    "\n",
    "sb.set()\n",
    "sb.barplot(x='Genotype', y='pCFOS_N', hue='Treatment', data=mp, capsize=0.08, ci=68)"
   ]
  },
  {
   "cell_type": "code",
   "execution_count": null,
   "id": "ac50cd56-1401-45c3-bcd9-8da5eaf4dec7",
   "metadata": {},
   "outputs": [],
   "source": [
    "# the box plot, slightly more useful\n",
    "\n",
    "sb.boxplot(x='Genotype', y='pCFOS_N', data=mp, hue='Treatment')"
   ]
  },
  {
   "cell_type": "code",
   "execution_count": null,
   "id": "3bf104f6-ae13-48d6-b581-f320ed51038d",
   "metadata": {},
   "outputs": [],
   "source": [
    "# the violin plot, most under-utilized plot in all of science\n",
    "\n",
    "sb.violinplot(x='Genotype', y='pCFOS_N', data=mp, hue='Treatment')"
   ]
  },
  {
   "cell_type": "code",
   "execution_count": null,
   "id": "8b5432d9-1fd4-4fc7-9dcc-2681d16533a5",
   "metadata": {},
   "outputs": [],
   "source": [
    "# the strip plot, kinda useless except in a minute\n",
    "\n",
    "sb.violinplot(x='Genotype', y='pCFOS_N', data=mp, hue='Treatment')\n",
    "sb.stripplot(x='Genotype', y='pCFOS_N', data=mp, hue='Treatment', dodge=True)"
   ]
  },
  {
   "cell_type": "code",
   "execution_count": null,
   "id": "6d4e2abf-2ace-48c1-96d6-3324a8f29311",
   "metadata": {},
   "outputs": [],
   "source": [
    "# swarm plot, similar to strip but with a better representtion of the distribution\n",
    "sb.violinplot(x='Genotype', y='pCFOS_N', data=mp, hue='Treatment')\n",
    "\n",
    "sb.swarmplot(x='Genotype', y='pCFOS_N', data=mp, hue='Treatment', dodge=True, size=3)"
   ]
  },
  {
   "cell_type": "code",
   "execution_count": null,
   "id": "8bbb55c3-7654-4b39-b8f0-eae61657ba11",
   "metadata": {},
   "outputs": [],
   "source": [
    "# a point plot\n",
    "\n",
    "# some real fake data for this, whoach look at that bidirecitonal freezing\n",
    "freezing_df = pd.DataFrame({\"% Freezing\": [20, 31, 42, 15, 23, 60, 78, 43, 74, 80, 15, 35, 33, 45, 29], \n",
    "               \"Animal\": [\"M1\", \"M2\", \"M3\", \"M4\", \"M5\", \"M1\", \"M2\", \"M3\", \"M4\", \"M5\", \"M1\", \"M2\", \"M3\", \"M4\", \"M5\"], \n",
    "               \"Time Epoch\": [\"0-2 min.\", \"0-2 min.\", \"0-2 min.\", \"0-2 min.\", \"0-2 min.\", \"2-4 min.\", \"2-4 min.\", \"2-4 min.\", \"2-4 min.\", \"2-4 min.\", \"4-6 min.\", \"4-6 min.\", \"4-6 min.\", \"4-6 min.\", \"4-6 min.\"]})\n",
    "sb.pointplot(x=\"Time Epoch\", y=\"% Freezing\", data=freezing_df, capsize=0.1)"
   ]
  },
  {
   "cell_type": "markdown",
   "id": "5bd33c1c-df48-460e-9040-44d725c18103",
   "metadata": {},
   "source": [
    "## Relational Plots"
   ]
  },
  {
   "cell_type": "code",
   "execution_count": null,
   "id": "21e677f5-7752-47fe-9a81-6379fc60efcc",
   "metadata": {},
   "outputs": [],
   "source": [
    "# scatter plot \n",
    "\n",
    "sb.scatterplot(x=\"pCFOS_N\", y=\"ARC_N\", data=mp, hue='Genotype')"
   ]
  },
  {
   "cell_type": "code",
   "execution_count": null,
   "id": "1ee791fb-c70f-47a7-a69f-f5335335aded",
   "metadata": {},
   "outputs": [],
   "source": [
    "from numpy import random\n",
    "\n",
    "# ah yes, lines\n",
    "data_trace = pd.DataFrame({\"Time\": list(np.linspace(0,100, 200)), \"Response\": list(abs(random.randn(200)))})\n",
    "\n",
    "sb.lineplot(x=\"Time\", y=\"Response\", data=data_trace)"
   ]
  },
  {
   "cell_type": "code",
   "execution_count": null,
   "id": "041c47be-79b0-4ce2-af2d-0dc169ce48b7",
   "metadata": {},
   "outputs": [],
   "source": [
    "# that lin regression though\n",
    "\n",
    "sb.lmplot(x=\"pCREB_N\", y=\"pCFOS_N\", data=mp, hue=\"Genotype\")"
   ]
  },
  {
   "cell_type": "code",
   "execution_count": null,
   "id": "a2c79f86-6760-402f-bf92-e9207562dd55",
   "metadata": {},
   "outputs": [],
   "source": [
    "# heatplot \n",
    "\n",
    "heat = random.rand(10,10)\n",
    "cmap = sb.diverging_palette(230, 20, as_cmap=True)\n",
    "\n",
    "sb.heatmap(heat, cmap=cmap)"
   ]
  },
  {
   "cell_type": "markdown",
   "id": "2ceba9fd-f4ce-4f7b-8dde-1bea862055b8",
   "metadata": {},
   "source": [
    "## Figure Aesthetics in Seaborn"
   ]
  },
  {
   "cell_type": "code",
   "execution_count": null,
   "id": "7485b08a-e831-4148-b4dc-18010a3fb49a",
   "metadata": {},
   "outputs": [],
   "source": [
    "# we can very quickly change sizes in seaborn with set style\n",
    "# darkgrid, whitegrid, ticks, dark, white\n",
    "\n",
    "sb.set_style('white')\n",
    "sb.barplot(x='Genotype', y='pCFOS_N', data=mp, hue='Treatment', capsize=0.08, ci=68)"
   ]
  },
  {
   "cell_type": "code",
   "execution_count": null,
   "id": "fb9fcd01-3ee9-4c9b-a256-4e733f1d0898",
   "metadata": {},
   "outputs": [],
   "source": [
    "# we can very quickly change sizes in seaborn with set\n",
    "# paper, notebook, talk, poster\n",
    "# as a note these renderings are specific to the screen because seaborn created these paramters dynamically based on the brightness etc. \n",
    "\n",
    "sb.set('notebook')\n",
    "sb.barplot(x='Genotype', y='pCFOS_N', data=mp, hue='Treatment', capsize=0.08, ci=68)"
   ]
  },
  {
   "cell_type": "code",
   "execution_count": null,
   "id": "fe52d0ca-b92c-4a0d-9e46-013bb09eb37e",
   "metadata": {},
   "outputs": [],
   "source": [
    "# we can easily remove the spines from a figure\n",
    "\n",
    "sb.set_style('white')\n",
    "sb.barplot(x='Genotype', y='pCFOS_N', data=mp, hue='Treatment', capsize=0.08, ci=68)\n",
    "sb.despine()"
   ]
  },
  {
   "cell_type": "code",
   "execution_count": null,
   "id": "da7ecb4d-731a-48d2-b4b7-9f5707baefdd",
   "metadata": {},
   "outputs": [],
   "source": [
    "# seaborn has a wide variety of color palettes, the color palette function will allow you to view any of the presets or custom palettes\n",
    "sb.color_palette('colorblind')"
   ]
  },
  {
   "cell_type": "markdown",
   "id": "a01f801f-9f5d-4230-92ff-7416530f5456",
   "metadata": {},
   "source": [
    "## Matplotlib: What is it good for?\n",
    "\n",
    "Control. This isn't to say that seaborn doesn't have lots of customizability--it does. However, theres a lot of bells and whistles matplotlib has that allow you to make incredibly complex graphs. Alas, all is not lost we won't be doomed to using 500 lines of code to make a single plot. Why? Because Seaborn is built on Matplotlib, its like a wrapper for the insane latitude of control that matplotlib affords you...so if you need to change the legend location of a seaborn graphic matplotlib can help..."
   ]
  },
  {
   "cell_type": "code",
   "execution_count": null,
   "id": "6e2647e7-fcb4-4be4-8c41-07a67230b3d9",
   "metadata": {},
   "outputs": [],
   "source": [
    "# heres a basic matplotlib graph\n",
    "\n",
    "y = random.randn(10)\n",
    "x = np.linspace(1, 10, 10)\n",
    "\n",
    "plt.plot(x, y)"
   ]
  },
  {
   "cell_type": "code",
   "execution_count": null,
   "id": "6c56b5c7-3a78-466a-9cf3-9aebe034857a",
   "metadata": {},
   "outputs": [],
   "source": [
    "# we can make any graph in matplotlib have the seaborn \"feel\" if you so choose or even ggplot2 etc. \n",
    "\n",
    "sb.set()\n",
    "plt.plot(x, y)\n"
   ]
  },
  {
   "cell_type": "code",
   "execution_count": null,
   "id": "a84e592d-17b2-46ab-9c6d-2cb1fe14f491",
   "metadata": {},
   "outputs": [],
   "source": [
    "# matplotlib has lots of preset styles that can be used for your specific wants/needs here is a mock ggplot2 style ported from R\n",
    "plt.style.use('ggplot')\n",
    "fig = plt.figure()\n",
    "plt.plot(x,y)"
   ]
  },
  {
   "cell_type": "code",
   "execution_count": null,
   "id": "33831f3c-13f8-4ab1-9c94-03c3a895a4f3",
   "metadata": {},
   "outputs": [],
   "source": [
    "# one thing about matplot lib is that it uses a figure class when we need to do many operations on a figure or when we need to make multiple figures at once\n",
    "# that we can reference later. Everything we run until a new figure class will be on that plot\n",
    "fig = plt.figure()\n",
    "plt.plot(x,y)\n",
    "fig2 = plt.figure()\n",
    "plt.plot(y,x)"
   ]
  },
  {
   "cell_type": "code",
   "execution_count": null,
   "id": "f33f30da-13c7-4a93-95ba-2fcc1b285b0d",
   "metadata": {},
   "outputs": [],
   "source": [
    "# with a fig instance we can do things like add subplots, specify size of the plot, etc. please check out the documentation for a full list of features,\n",
    "# its incredibbly expansive\n",
    "\n",
    "# heres an example of a figure that has a 600 dpi (dots per inch), and a 10x15 \n",
    "fig = plt.figure(dpi=600, figsize=(5,7))\n",
    "plt.plot([1,2,3,4],[5,6,7,8])\n"
   ]
  },
  {
   "cell_type": "code",
   "execution_count": null,
   "id": "06409356-fa1f-4312-babd-8d4ac18c3b2b",
   "metadata": {},
   "outputs": [],
   "source": [
    "# we can also create suplots with matplotlib\n",
    "fig, ax = plt.subplots(2,2)\n",
    "\n",
    "ax[0,0].plot(x,y)\n",
    "ax[0,1].plot(y,x)\n",
    "ax[1,0].plot(x,x)\n",
    "ax[1,1].plot(y,y)\n",
    "\n"
   ]
  }
 ],
 "metadata": {
  "kernelspec": {
   "display_name": "Python 3",
   "language": "python",
   "name": "python3"
  },
  "language_info": {
   "codemirror_mode": {
    "name": "ipython",
    "version": 3
   },
   "file_extension": ".py",
   "mimetype": "text/x-python",
   "name": "python",
   "nbconvert_exporter": "python",
   "pygments_lexer": "ipython3",
   "version": "3.9.5"
  }
 },
 "nbformat": 4,
 "nbformat_minor": 5
}
